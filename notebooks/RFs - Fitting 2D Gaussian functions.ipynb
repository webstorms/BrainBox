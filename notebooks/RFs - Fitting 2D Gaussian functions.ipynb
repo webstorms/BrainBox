{
 "cells": [
  {
   "cell_type": "markdown",
   "id": "9a83c017",
   "metadata": {},
   "source": [
    "### Goal\n",
    "\n",
    "In this notebook, we explore fitting 2D Gaussian functions to provided RFs. This is particularly useful for fitting retinal RFs and characterizing their properties. Here, we use RF data obtained from [Taylor et al. 2024](https://www.biorxiv.org/content/10.1101/2024.03.26.586771v1)."
   ]
  },
  {
   "cell_type": "code",
   "execution_count": 9,
   "id": "12f028e4",
   "metadata": {},
   "outputs": [
    {
     "name": "stdout",
     "output_type": "stream",
     "text": [
      "The autoreload extension is already loaded. To reload it, use:\n",
      "  %reload_ext autoreload\n"
     ]
    }
   ],
   "source": [
    "import os\n",
    "import warnings\n",
    "warnings.filterwarnings(\"ignore\", category=RuntimeWarning)\n",
    "\n",
    "import torch\n",
    "import matplotlib.pyplot as plt\n",
    "\n",
    "from brainbox.rfs.gaussian import fit, query\n",
    "\n",
    "%load_ext autoreload\n",
    "%autoreload 2"
   ]
  },
  {
   "cell_type": "code",
   "execution_count": 10,
   "id": "5774f4cc",
   "metadata": {},
   "outputs": [],
   "source": [
    "# Load our example spatial RFs (shape: units x height x width)\n",
    "gaussian_rfs = torch.load(f\"data/gaussian_rfs.pt\")"
   ]
  },
  {
   "cell_type": "code",
   "execution_count": 11,
   "id": "35707896",
   "metadata": {},
   "outputs": [],
   "source": [
    "# Fit 2D Gaussian functions to each example RF\n",
    "if not os.path.exists(f\"data/rf_fits/gaussian.csv\"):\n",
    "    fit.GaussianFitter().fit_spatial(f\"data/rf_fits/gaussian.csv\", \n",
    "                                     gaussian_rfs, \n",
    "                                     batch_size=200, \n",
    "                                     n_spatial_iterations=4000, \n",
    "                                     spatial_lr=1e-1)"
   ]
  },
  {
   "cell_type": "code",
   "execution_count": 12,
   "id": "c4555c69",
   "metadata": {},
   "outputs": [
    {
     "name": "stdout",
     "output_type": "stream",
     "text": [
      "INFO:gaussian:CC criteria exclusion 213\n",
      "INFO:gaussian:Location criteria exclusion 37\n",
      "INFO:gaussian:Envelope criteria exclusion 11\n"
     ]
    }
   ],
   "source": [
    "# Create a query object which gives us all the fit info\n",
    "# Note: here the method expects strfs rather than rfs, so we include a temporal dimension\n",
    "# by unsqueezeing the second dimension\n",
    "fit_query = query.GaussianQuery(f\"data/rf_fits/gaussian.csv\", gaussian_rfs.unsqueeze(1))\n",
    "\n",
    "# We can now query the fit data - you can specify the minimum CC for each unit's RF fit\n",
    "params_df, spatial_rfs, gaussians, _ = fit_query.validate(min_cc=0.7)"
   ]
  },
  {
   "cell_type": "code",
   "execution_count": 21,
   "id": "a080ad2f",
   "metadata": {},
   "outputs": [
    {
     "data": {
      "text/html": [
       "<div>\n",
       "<style scoped>\n",
       "    .dataframe tbody tr th:only-of-type {\n",
       "        vertical-align: middle;\n",
       "    }\n",
       "\n",
       "    .dataframe tbody tr th {\n",
       "        vertical-align: top;\n",
       "    }\n",
       "\n",
       "    .dataframe thead th {\n",
       "        text-align: right;\n",
       "    }\n",
       "</style>\n",
       "<table border=\"1\" class=\"dataframe\">\n",
       "  <thead>\n",
       "    <tr style=\"text-align: right;\">\n",
       "      <th></th>\n",
       "      <th>amp</th>\n",
       "      <th>x0</th>\n",
       "      <th>y0</th>\n",
       "      <th>sigmax</th>\n",
       "      <th>sigmay</th>\n",
       "      <th>p</th>\n",
       "      <th>cc</th>\n",
       "    </tr>\n",
       "  </thead>\n",
       "  <tbody>\n",
       "    <tr>\n",
       "      <th>1</th>\n",
       "      <td>8.282103</td>\n",
       "      <td>13.515543</td>\n",
       "      <td>10.758614</td>\n",
       "      <td>1.048307</td>\n",
       "      <td>1.218440</td>\n",
       "      <td>-0.004287</td>\n",
       "      <td>0.849122</td>\n",
       "    </tr>\n",
       "    <tr>\n",
       "      <th>2</th>\n",
       "      <td>-9.764000</td>\n",
       "      <td>10.629963</td>\n",
       "      <td>14.935437</td>\n",
       "      <td>1.856253</td>\n",
       "      <td>0.986586</td>\n",
       "      <td>0.095359</td>\n",
       "      <td>0.835597</td>\n",
       "    </tr>\n",
       "    <tr>\n",
       "      <th>5</th>\n",
       "      <td>-26.829912</td>\n",
       "      <td>5.896315</td>\n",
       "      <td>1.589474</td>\n",
       "      <td>2.114669</td>\n",
       "      <td>2.660697</td>\n",
       "      <td>0.259447</td>\n",
       "      <td>0.758640</td>\n",
       "    </tr>\n",
       "    <tr>\n",
       "      <th>8</th>\n",
       "      <td>47.848873</td>\n",
       "      <td>13.031333</td>\n",
       "      <td>9.164455</td>\n",
       "      <td>3.649757</td>\n",
       "      <td>2.382304</td>\n",
       "      <td>0.100958</td>\n",
       "      <td>0.817943</td>\n",
       "    </tr>\n",
       "    <tr>\n",
       "      <th>13</th>\n",
       "      <td>-9.274092</td>\n",
       "      <td>13.669727</td>\n",
       "      <td>10.759048</td>\n",
       "      <td>1.302809</td>\n",
       "      <td>1.106861</td>\n",
       "      <td>-0.041989</td>\n",
       "      <td>0.871228</td>\n",
       "    </tr>\n",
       "  </tbody>\n",
       "</table>\n",
       "</div>"
      ],
      "text/plain": [
       "          amp         x0         y0    sigmax    sigmay         p        cc\n",
       "1    8.282103  13.515543  10.758614  1.048307  1.218440 -0.004287  0.849122\n",
       "2   -9.764000  10.629963  14.935437  1.856253  0.986586  0.095359  0.835597\n",
       "5  -26.829912   5.896315   1.589474  2.114669  2.660697  0.259447  0.758640\n",
       "8   47.848873  13.031333   9.164455  3.649757  2.382304  0.100958  0.817943\n",
       "13  -9.274092  13.669727  10.759048  1.302809  1.106861 -0.041989  0.871228"
      ]
     },
     "execution_count": 21,
     "metadata": {},
     "output_type": "execute_result"
    }
   ],
   "source": [
    "# The params_df gives us all the fitted 2D Gaussian paramters for each RF\n",
    "params_df.head()"
   ]
  },
  {
   "cell_type": "code",
   "execution_count": 14,
   "id": "1c508069",
   "metadata": {},
   "outputs": [
    {
     "data": {
      "image/png": "[encoded data removed]",
      "text/plain": [
       "<Figure size 640x480 with 8 Axes>"
      ]
     },
     "metadata": {},
     "output_type": "display_data"
    }
   ],
   "source": [
    "# The spatial_rfs and gaussians tensor return our RFs and their fits which we can plot\n",
    "def plot_rf_and_fit(i, ax):\n",
    "    for j in range(2):\n",
    "        axs[i, j].set_xticks([])\n",
    "        axs[i, j].set_yticks([])\n",
    "    axs[i, 0].imshow(spatial_rfs.detach()[i], vmin=-1, vmax=1, cmap=\"bwr\")\n",
    "    axs[i, 1].imshow(gaussians.detach()[i], vmin=-1, vmax=1, cmap=\"bwr\")\n",
    "\n",
    "fig, axs = plt.subplots(4, 2)\n",
    "\n",
    "plot_rf_and_fit(0, axs)\n",
    "plot_rf_and_fit(1, axs)\n",
    "plot_rf_and_fit(2, axs)\n",
    "plot_rf_and_fit(3, axs)\n",
    "axs[0, 0].set_title(\"RFs\")\n",
    "axs[0, 1].set_title(\"Gaussian fits\")\n",
    "fig.tight_layout()"
   ]
  }
 ],
 "metadata": {
  "kernelspec": {
   "display_name": "Python [conda env:brainbox] *",
   "language": "python",
   "name": "conda-env-brainbox-py"
  },
  "language_info": {
   "codemirror_mode": {
    "name": "ipython",
    "version": 3
   },
   "file_extension": ".py",
   "mimetype": "text/x-python",
   "name": "python",
   "nbconvert_exporter": "python",
   "pygments_lexer": "ipython3",
   "version": "3.8.13"
  }
 },
 "nbformat": 4,
 "nbformat_minor": 5
}
