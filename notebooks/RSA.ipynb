{
 "cells": [
  {
   "cell_type": "code",
   "execution_count": 1,
   "metadata": {},
   "outputs": [],
   "source": [
    "import pickle\n",
    "import sys\n",
    "sys.path.append('..')\n",
    "\n",
    "import torch\n",
    "import numpy as np\n",
    "import pandas as pd\n",
    "import matplotlib.pyplot as plt\n",
    "import seaborn as sns\n",
    "\n",
    "from brainbox import physiology as phys"
   ]
  },
  {
   "cell_type": "markdown",
   "metadata": {},
   "source": [
    "First run the code below to load up all the relevant files and instantiate two dummy models (a full model trained on naturalistic video clips and the same model where video clips were shuffled during training) which will be used by the RSA class. "
   ]
  },
  {
   "cell_type": "code",
   "execution_count": 2,
   "metadata": {},
   "outputs": [],
   "source": [
    "# Dummy model class which loads the outputs from a pre-trained model\n",
    "class DummyModel:\n",
    "    def __init__ (self, static, moving):\n",
    "        self.static_stimuli, self.static_responses = static\n",
    "        self.moving_stimuli, self.moving_responses = moving\n",
    "        \n",
    "    def __call__ (self, x):\n",
    "        if np.array_equal(x, self.static_stimuli):\n",
    "            return self.static_responses\n",
    "        elif np.array_equal(x, self.moving_stimuli):\n",
    "            return self.moving_responses\n",
    "        else:\n",
    "            raise Exception('No stored responses for this input.')\n",
    "\n",
    "# Load stimuli, precomputed model responses and neural responses\n",
    "moving_stimuli            = np.load('./misc/rsa/mov_stimuli.npy')\n",
    "static_stimuli            = np.load('./misc/rsa/stat_stimuli.npy') \n",
    "shuffledtp_mov_responses  = np.load('./misc/rsa/shuffledtp_mov_responses.npy')\n",
    "shuffledtp_stat_responses = np.load('./misc/rsa/shuffledtp_stat_responses.npy')\n",
    "tp_mov_responses          = np.load('./misc/rsa/tp_mov_responses.npy')\n",
    "tp_stat_responses         = np.load('./misc/rsa/tp_stat_responses.npy')\n",
    "v1_responses              = np.load('./misc/rsa/v1_responses.npy')\n",
    "\n",
    "# Instantiate our 'models'\n",
    "tp_model       = DummyModel(\n",
    "    [static_stimuli, tp_stat_responses],\n",
    "    [moving_stimuli, tp_mov_responses]\n",
    ")\n",
    "shuffled_model = DummyModel(\n",
    "    [static_stimuli, shuffledtp_stat_responses],\n",
    "    [moving_stimuli, shuffledtp_mov_responses]\n",
    ")\n",
    "\n",
    "# Instantiate RSA objects with each model, stimuli and neural responses\n",
    "tp_rsa       = phys.rsa.RSA(tp_model,       static_stimuli, moving_stimuli, v1_responses)\n",
    "shuffled_rsa = phys.rsa.RSA(shuffled_model, static_stimuli, moving_stimuli, v1_responses)"
   ]
  },
  {
   "cell_type": "markdown",
   "metadata": {},
   "source": [
    "Now let's get the similarity score for each model compared with mouse V1. Because we've already passed in the neural data during class instantiation, we don't have to pass anything in again."
   ]
  },
  {
   "cell_type": "code",
   "execution_count": 3,
   "metadata": {},
   "outputs": [
    {
     "name": "stdout",
     "output_type": "stream",
     "text": [
      "TP similarity = 0.1687772572365833\n",
      "Shuffled similarity = -0.008599415770587805\n"
     ]
    }
   ],
   "source": [
    "tp_similarity       = tp_rsa.compare_model()\n",
    "shuffled_similarity = shuffled_rsa.compare_model()\n",
    "\n",
    "print('TP similarity =', tp_similarity)\n",
    "print('Shuffled similarity =', shuffled_similarity)"
   ]
  },
  {
   "cell_type": "markdown",
   "metadata": {},
   "source": [
    "Although it looks like the full model is doing better than the shuffled model, these scores aren't normalized to the noise ceilling of each mouse. To get a better absolute measure, let's run the code again but this time correcting for noise in the neural data.\n",
    "\n",
    "Depending on how many iterations you choose, this could take some time. For speed, we'll choose 10 but you'd probably want a higher number of iterations for a better estimate. After running, the noise ceiling will be cached for future use."
   ]
  },
  {
   "cell_type": "code",
   "execution_count": 4,
   "metadata": {},
   "outputs": [
    {
     "name": "stdout",
     "output_type": "stream",
     "text": [
      "TP similarity = 0.5416259618354545\n",
      "Shuffled similarity = -0.030490303795991207\n"
     ]
    }
   ],
   "source": [
    "tp_similarity       = tp_rsa.compare_model(noise_corrected=10)\n",
    "shuffled_similarity = shuffled_rsa.compare_model(noise_corrected=10)\n",
    "\n",
    "print('TP similarity =', tp_similarity)\n",
    "print('Shuffled similarity =', shuffled_similarity)"
   ]
  },
  {
   "cell_type": "markdown",
   "metadata": {},
   "source": [
    "Finally, we can compare all models against each other by passing in all the models and responses we want to compare."
   ]
  },
  {
   "cell_type": "code",
   "execution_count": 6,
   "metadata": {},
   "outputs": [
    {
     "name": "stdout",
     "output_type": "stream",
     "text": [
      "Correlation matrix between models:\n",
      "[[ 1.          0.16877726  0.11095953]\n",
      " [ 0.16877726  1.         -0.00859942]\n",
      " [ 0.11095953 -0.00859942  1.        ]]\n"
     ]
    },
    {
     "data": {
      "image/png": "[encoded data removed]",
      "text/plain": [
       "<Figure size 600x400 with 2 Axes>"
      ]
     },
     "metadata": {
      "needs_background": "light"
     },
     "output_type": "display_data"
    }
   ],
   "source": [
    "correlation_matrix = tp_rsa.compare_model([tp_rsa.neural_responses, shuffled_rsa])\n",
    "\n",
    "print('Correlation matrix between models:')\n",
    "print(correlation_matrix)\n",
    "\n",
    "phys.rsa.RSA.plot_correlation_matrix(correlation_matrix, ['Model', 'Mouse v1', 'Shuffled model'])"
   ]
  },
  {
   "cell_type": "code",
   "execution_count": null,
   "metadata": {},
   "outputs": [],
   "source": []
  }
 ],
 "metadata": {
  "kernelspec": {
   "display_name": "brainbox",
   "language": "python",
   "name": "brainbox"
  },
  "language_info": {
   "codemirror_mode": {
    "name": "ipython",
    "version": 3
   },
   "file_extension": ".py",
   "mimetype": "text/x-python",
   "name": "python",
   "nbconvert_exporter": "python",
   "pygments_lexer": "ipython3",
   "version": "3.8.5"
  }
 },
 "nbformat": 4,
 "nbformat_minor": 4
}
