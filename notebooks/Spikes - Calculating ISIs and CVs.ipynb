{
 "cells": [
  {
   "cell_type": "markdown",
   "id": "9a83c017",
   "metadata": {},
   "source": [
    "### Goal\n",
    "\n",
    "In this notebook, we calculate interspike intervals (ISIs) and Coefficient of variation (CV) of spike trains. This is useful for quantifying how variable (i.e. regular vs irregular) a spike train is."
   ]
  },
  {
   "cell_type": "code",
   "execution_count": 1,
   "id": "12f028e4",
   "metadata": {},
   "outputs": [],
   "source": [
    "import torch\n",
    "import pandas as pd\n",
    "import matplotlib.pyplot as plt\n",
    "\n",
    "from brainbox import spiking\n",
    "\n",
    "%load_ext autoreload\n",
    "%autoreload 2"
   ]
  },
  {
   "cell_type": "code",
   "execution_count": 2,
   "id": "87eb6855",
   "metadata": {},
   "outputs": [],
   "source": [
    "# Let's generate some synthetic spike data\n",
    "def generate_spikes(b, n, t_len):\n",
    "    torch.manual_seed(20)\n",
    "    example_spikes = torch.rand(b, n, t_len)\n",
    "    example_spikes[example_spikes > 0.99] = 1\n",
    "    example_spikes[example_spikes < 1] = 0\n",
    "    \n",
    "    return example_spikes\n",
    "\n",
    "spike_trains = generate_spikes(1, n=100, t_len=1000)  # of shape b x n x t"
   ]
  },
  {
   "cell_type": "code",
   "execution_count": 3,
   "id": "9b8e225c",
   "metadata": {},
   "outputs": [],
   "source": [
    "# Calculate isi tensor - the distance between consecutive spikes\n",
    "isi_tensor = spiking.compute_isis_tensor(spike_trains)  # of shape b x n x t"
   ]
  },
  {
   "cell_type": "code",
   "execution_count": 4,
   "id": "154a4abe",
   "metadata": {},
   "outputs": [],
   "source": [
    "# Calculate CV - defined as the ratio between the standard deviation and the mean of the ISIs\n",
    "cv_tensor = spiking.compute_isi_cvs(isi_tensor, n_spikes_thresh=3)  # of shape b x n\n",
    "# n_spikes_thresh sets min number spikes required in a spike train\n",
    "# if there are less spikes the CV for that spike train will be =-1\n",
    "cv_tensor = cv_tensor[cv_tensor != -1]  # Filter out the invalid CVs (i.e. not enough spikes)"
   ]
  },
  {
   "cell_type": "code",
   "execution_count": 5,
   "id": "d2da122a",
   "metadata": {},
   "outputs": [
    {
     "data": {
      "image/png": "[encoded data removed]",
      "text/plain": [
       "<Figure size 500x300 with 2 Axes>"
      ]
     },
     "metadata": {},
     "output_type": "display_data"
    }
   ],
   "source": [
    "def plot_data(data, ax):\n",
    "    pd.Series(data).hist(ax=ax)\n",
    "    ax.spines[\"top\"].set_visible(False)\n",
    "    ax.spines[\"right\"].set_visible(False)\n",
    "    \n",
    "fig, axs = plt.subplots(1, 2, figsize=(5, 3))\n",
    "\n",
    "plot_data(isi_tensor[isi_tensor > 0].float(), axs[0])\n",
    "plot_data(cv_tensor, axs[1])\n",
    "axs[0].set_ylabel(\"Count\", fontsize=14, labelpad=2)\n",
    "axs[0].set_xlabel(\"ISI\", fontsize=14, labelpad=2)\n",
    "axs[1].set_xlabel(\"CV\", fontsize=14, labelpad=2)\n",
    "fig.tight_layout()\n",
    "# Note: You can calculate the firing rate (Hz) by m "
   ]
  }
 ],
 "metadata": {
  "kernelspec": {
   "display_name": "Python [conda env:brainbox] *",
   "language": "python",
   "name": "conda-env-brainbox-py"
  },
  "language_info": {
   "codemirror_mode": {
    "name": "ipython",
    "version": 3
   },
   "file_extension": ".py",
   "mimetype": "text/x-python",
   "name": "python",
   "nbconvert_exporter": "python",
   "pygments_lexer": "ipython3",
   "version": "3.8.13"
  }
 },
 "nbformat": 4,
 "nbformat_minor": 5
}
