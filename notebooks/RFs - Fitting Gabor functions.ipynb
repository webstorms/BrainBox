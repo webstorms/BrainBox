{
 "cells": [
  {
   "cell_type": "markdown",
   "id": "9a83c017",
   "metadata": {},
   "source": [
    "### Goal\n",
    "\n",
    "In this notebook, we explore fitting Gabor functions to provided RFs. This is particularly useful for fitting V1 RFs and characterizing their properties. Here, we use RF data obtained from [Taylor et al. 2024](https://www.biorxiv.org/content/10.1101/2024.05.12.593763v1#:~:text=We%20found%20that%20the%20model,prediction%20of%20the%20sensory%20future.)."
   ]
  },
  {
   "cell_type": "code",
   "execution_count": 1,
   "id": "12f028e4",
   "metadata": {},
   "outputs": [],
   "source": [
    "import os\n",
    "import warnings\n",
    "warnings.filterwarnings(\"ignore\", category=RuntimeWarning)\n",
    "\n",
    "import torch\n",
    "import matplotlib.pyplot as plt\n",
    "\n",
    "from brainbox.rfs.gabor import fit, query\n",
    "\n",
    "%load_ext autoreload\n",
    "%autoreload 2"
   ]
  },
  {
   "cell_type": "code",
   "execution_count": 2,
   "id": "5774f4cc",
   "metadata": {},
   "outputs": [],
   "source": [
    "# Load our example spatial RFs (shape: units x height x width)\n",
    "gabor_rfs = torch.load(f\"data/gabor_rfs.pt\")"
   ]
  },
  {
   "cell_type": "code",
   "execution_count": 3,
   "id": "35707896",
   "metadata": {},
   "outputs": [],
   "source": [
    "# Fit Gabor functions to each example RF\n",
    "# Note: increasing the n_spectral_iterations and n_spatial_iterations variables \n",
    "# will result in a better fit.\n",
    "if not os.path.exists(f\"data/rf_fits/gabor.csv\"):\n",
    "    fit.GaborFitter().fit_spatial(f\"data/rf_fits/gabor.csv\", \n",
    "                                     gabor_rfs, \n",
    "                                     batch_size=100, \n",
    "                                     n_spectral_iterations=1000, \n",
    "                                     n_spatial_iterations=2000, \n",
    "                                     spectral_lr=10**-1.5, \n",
    "                                     spatial_lr=10**-2.5\n",
    "                                 )"
   ]
  },
  {
   "cell_type": "code",
   "execution_count": 4,
   "id": "c4555c69",
   "metadata": {},
   "outputs": [
    {
     "name": "stdout",
     "output_type": "stream",
     "text": [
      "INFO:gabor:CC criteria exclusion 24\n",
      "INFO:gabor:Location criteria exclusion 0\n",
      "INFO:gabor:Envelope criteria exclusion 3\n"
     ]
    }
   ],
   "source": [
    "# Create a query object which gives us all the fit info\n",
    "# Note: here the method expects strfs rather than rfs, so we include a temporal dimension\n",
    "# by unsqueezeing the second dimension\n",
    "fit_query = query.GaborQuery(f\"data/rf_fits/gabor.csv\", gabor_rfs.unsqueeze(1))\n",
    "\n",
    "# We can now query the fit data - you can specify the minimum CC for each unit's RF fit\n",
    "params_df, spatial_rfs, gabors, strfs, rfs2d = fit_query.validate(min_cc=0.7)"
   ]
  },
  {
   "cell_type": "code",
   "execution_count": 5,
   "id": "a080ad2f",
   "metadata": {},
   "outputs": [
    {
     "data": {
      "text/html": [
       "<div>\n",
       "<style scoped>\n",
       "    .dataframe tbody tr th:only-of-type {\n",
       "        vertical-align: middle;\n",
       "    }\n",
       "\n",
       "    .dataframe tbody tr th {\n",
       "        vertical-align: top;\n",
       "    }\n",
       "\n",
       "    .dataframe thead th {\n",
       "        text-align: right;\n",
       "    }\n",
       "</style>\n",
       "<table border=\"1\" class=\"dataframe\">\n",
       "  <thead>\n",
       "    <tr style=\"text-align: right;\">\n",
       "      <th></th>\n",
       "      <th>x0</th>\n",
       "      <th>y0</th>\n",
       "      <th>sigmax</th>\n",
       "      <th>sigmay</th>\n",
       "      <th>theta</th>\n",
       "      <th>phi</th>\n",
       "      <th>frequency</th>\n",
       "      <th>cc</th>\n",
       "    </tr>\n",
       "  </thead>\n",
       "  <tbody>\n",
       "    <tr>\n",
       "      <th>0</th>\n",
       "      <td>16.665503</td>\n",
       "      <td>5.628503</td>\n",
       "      <td>4.383598</td>\n",
       "      <td>3.147008</td>\n",
       "      <td>0.000000</td>\n",
       "      <td>1.286409</td>\n",
       "      <td>0.023786</td>\n",
       "      <td>0.758960</td>\n",
       "    </tr>\n",
       "    <tr>\n",
       "      <th>1</th>\n",
       "      <td>8.289160</td>\n",
       "      <td>7.960581</td>\n",
       "      <td>4.159885</td>\n",
       "      <td>2.480072</td>\n",
       "      <td>3.009549</td>\n",
       "      <td>3.141593</td>\n",
       "      <td>0.157389</td>\n",
       "      <td>0.808529</td>\n",
       "    </tr>\n",
       "    <tr>\n",
       "      <th>2</th>\n",
       "      <td>9.731340</td>\n",
       "      <td>8.497008</td>\n",
       "      <td>2.887225</td>\n",
       "      <td>1.465347</td>\n",
       "      <td>0.000000</td>\n",
       "      <td>1.469830</td>\n",
       "      <td>0.159300</td>\n",
       "      <td>0.865663</td>\n",
       "    </tr>\n",
       "    <tr>\n",
       "      <th>3</th>\n",
       "      <td>9.740035</td>\n",
       "      <td>10.091212</td>\n",
       "      <td>1.838227</td>\n",
       "      <td>0.976003</td>\n",
       "      <td>0.086721</td>\n",
       "      <td>0.839534</td>\n",
       "      <td>0.108249</td>\n",
       "      <td>0.886182</td>\n",
       "    </tr>\n",
       "    <tr>\n",
       "      <th>4</th>\n",
       "      <td>8.471981</td>\n",
       "      <td>6.467749</td>\n",
       "      <td>2.224756</td>\n",
       "      <td>4.018777</td>\n",
       "      <td>1.841823</td>\n",
       "      <td>2.345831</td>\n",
       "      <td>0.000000</td>\n",
       "      <td>0.829801</td>\n",
       "    </tr>\n",
       "  </tbody>\n",
       "</table>\n",
       "</div>"
      ],
      "text/plain": [
       "          x0         y0    sigmax    sigmay     theta       phi  frequency  \\\n",
       "0  16.665503   5.628503  4.383598  3.147008  0.000000  1.286409   0.023786   \n",
       "1   8.289160   7.960581  4.159885  2.480072  3.009549  3.141593   0.157389   \n",
       "2   9.731340   8.497008  2.887225  1.465347  0.000000  1.469830   0.159300   \n",
       "3   9.740035  10.091212  1.838227  0.976003  0.086721  0.839534   0.108249   \n",
       "4   8.471981   6.467749  2.224756  4.018777  1.841823  2.345831   0.000000   \n",
       "\n",
       "         cc  \n",
       "0  0.758960  \n",
       "1  0.808529  \n",
       "2  0.865663  \n",
       "3  0.886182  \n",
       "4  0.829801  "
      ]
     },
     "execution_count": 5,
     "metadata": {},
     "output_type": "execute_result"
    }
   ],
   "source": [
    "# The params_df gives us all the fitted Gabor paramters for each RF\n",
    "params_df.head()"
   ]
  },
  {
   "cell_type": "code",
   "execution_count": 8,
   "id": "1c508069",
   "metadata": {},
   "outputs": [
    {
     "data": {
      "image/png": "[encoded data removed]",
      "text/plain": [
       "<Figure size 640x480 with 8 Axes>"
      ]
     },
     "metadata": {},
     "output_type": "display_data"
    }
   ],
   "source": [
    "# The spatial_rfs and gabors tensor return our RFs and their fits which we can plot\n",
    "def plot_rf_and_fit(i, ax):\n",
    "    for j in range(2):\n",
    "        axs[i, j].set_xticks([])\n",
    "        axs[i, j].set_yticks([])\n",
    "    axs[i, 0].imshow(spatial_rfs.detach()[i], vmin=-2, vmax=2, cmap=\"bwr\")\n",
    "    axs[i, 1].imshow(gabors.detach()[i], vmin=-1, vmax=1, cmap=\"bwr\")\n",
    "\n",
    "fig, axs = plt.subplots(4, 2)\n",
    "\n",
    "plot_rf_and_fit(0, axs)\n",
    "plot_rf_and_fit(1, axs)\n",
    "plot_rf_and_fit(2, axs)\n",
    "plot_rf_and_fit(3, axs)\n",
    "axs[0, 0].set_title(\"RFs\")\n",
    "axs[0, 1].set_title(\"Gabor fits\")\n",
    "fig.tight_layout()"
   ]
  }
 ],
 "metadata": {
  "kernelspec": {
   "display_name": "Python [conda env:brainbox] *",
   "language": "python",
   "name": "conda-env-brainbox-py"
  },
  "language_info": {
   "codemirror_mode": {
    "name": "ipython",
    "version": 3
   },
   "file_extension": ".py",
   "mimetype": "text/x-python",
   "name": "python",
   "nbconvert_exporter": "python",
   "pygments_lexer": "ipython3",
   "version": "3.8.13"
  }
 },
 "nbformat": 4,
 "nbformat_minor": 5
}
